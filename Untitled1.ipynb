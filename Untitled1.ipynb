{
 "cells": [
  {
   "cell_type": "code",
   "execution_count": 5,
   "metadata": {},
   "outputs": [],
   "source": [
    "from PIL import Image\n",
    "import os,glob\n",
    "import numpy as np\n",
    "from sklearn import cross_validation\n",
    "\n",
    "#＜クラス準備＞\n",
    "classes = [\"monkey\",\"boar\",\"crow\"]\n",
    "#クラスのサイズ定義\n",
    "num_classes = len(classes)\n",
    "image_size = 50\n",
    "\n",
    "#＜画像の読み込み＞\n",
    "X = [] #画像データ\n",
    "Y = [] #ラベルデータ\n",
    "\n",
    "for index , classlabel in enumerate(classes):\n",
    "    photos_dir = \"./\" + classlabel\n",
    "    files = glob.glob(photos_dir + \"/*.jpg\")\n",
    "    for i ,file in enumerate(files):\n",
    "        if i>200 :break\n",
    "        image = Image.open(file)\n",
    "        image = image.convert(\"RGB\")\n",
    "        image = image.resize((image_size,image_size))\n",
    "        data  = np.asarray(image)\n",
    "        X.append(data)\n",
    "        Y.append(index)\n",
    "\n",
    "X = np.array(X)\n",
    "Y = np.array(Y)"
   ]
  },
  {
   "cell_type": "code",
   "execution_count": 6,
   "metadata": {},
   "outputs": [
    {
     "data": {
      "text/plain": [
       "array([[[ 90,  84,  58],\n",
       "        [ 82,  77,  55],\n",
       "        [ 79,  77,  56],\n",
       "        ...,\n",
       "        [146, 112,  66],\n",
       "        [133,  99,  64],\n",
       "        [123,  89,  52]],\n",
       "\n",
       "       [[ 80,  78,  55],\n",
       "        [ 75,  74,  54],\n",
       "        [ 72,  73,  55],\n",
       "        ...,\n",
       "        [116,  98,  52],\n",
       "        [118,  91,  48],\n",
       "        [121,  93,  53]],\n",
       "\n",
       "       [[ 77,  76,  56],\n",
       "        [ 72,  73,  57],\n",
       "        [ 71,  72,  58],\n",
       "        ...,\n",
       "        [ 97,  79,  33],\n",
       "        [110,  85,  45],\n",
       "        [121,  95,  58]],\n",
       "\n",
       "       ...,\n",
       "\n",
       "       [[ 32,  22,  12],\n",
       "        [ 32,  20,   6],\n",
       "        [ 34,  22,   6],\n",
       "        ...,\n",
       "        [167, 123,  28],\n",
       "        [177, 136,  48],\n",
       "        [200, 157,  78]],\n",
       "\n",
       "       [[  3,   0,   0],\n",
       "        [ 28,  25,  18],\n",
       "        [ 21,  18,  11],\n",
       "        ...,\n",
       "        [171, 127,  40],\n",
       "        [163, 118,  37],\n",
       "        [193, 146,  66]],\n",
       "\n",
       "       [[ 32,  28,  25],\n",
       "        [ 19,  16,  11],\n",
       "        [ 30,  27,  20],\n",
       "        ...,\n",
       "        [168, 123,  40],\n",
       "        [167, 125,  43],\n",
       "        [209, 162,  82]]], dtype=uint8)"
      ]
     },
     "execution_count": 6,
     "metadata": {},
     "output_type": "execute_result"
    }
   ],
   "source": [
    "X[0]"
   ]
  },
  {
   "cell_type": "code",
   "execution_count": 7,
   "metadata": {},
   "outputs": [
    {
     "data": {
      "text/plain": [
       "603"
      ]
     },
     "execution_count": 7,
     "metadata": {},
     "output_type": "execute_result"
    }
   ],
   "source": [
    "len(X)"
   ]
  },
  {
   "cell_type": "code",
   "execution_count": 8,
   "metadata": {},
   "outputs": [
    {
     "data": {
      "text/plain": [
       "0"
      ]
     },
     "execution_count": 8,
     "metadata": {},
     "output_type": "execute_result"
    }
   ],
   "source": [
    "Y[100]"
   ]
  },
  {
   "cell_type": "code",
   "execution_count": null,
   "metadata": {},
   "outputs": [],
   "source": []
  }
 ],
 "metadata": {
  "kernelspec": {
   "display_name": "Python 3",
   "language": "python",
   "name": "python3"
  },
  "language_info": {
   "codemirror_mode": {
    "name": "ipython",
    "version": 3
   },
   "file_extension": ".py",
   "mimetype": "text/x-python",
   "name": "python",
   "nbconvert_exporter": "python",
   "pygments_lexer": "ipython3",
   "version": "3.6.4"
  }
 },
 "nbformat": 4,
 "nbformat_minor": 2
}
