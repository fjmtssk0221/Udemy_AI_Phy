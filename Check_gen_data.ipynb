{
 "cells": [
  {
   "cell_type": "code",
   "execution_count": 1,
   "metadata": {},
   "outputs": [],
   "source": [
    "from PIL import Image\n",
    "import os,glob\n",
    "import numpy as np\n",
    "from sklearn import model_selection\n",
    "\n",
    "#＜クラス準備＞\n",
    "classes = [\"monkey\",\"boar\",\"crow\"]\n",
    "#クラスのサイズ定義\n",
    "num_classes = len(classes)\n",
    "image_size = 50\n",
    "\n",
    "#＜画像の読み込み＞\n",
    "X = [] #画像データ\n",
    "Y = [] #ラベルデータ\n",
    "\n",
    "for index , classlabel in enumerate(classes):\n",
    "    photos_dir = \"./\" + classlabel\n",
    "    files = glob.glob(photos_dir + \"/*.jpg\")\n",
    "    for i ,file in enumerate(files):\n",
    "        if i>200 :break\n",
    "        image = Image.open(file)\n",
    "        image = image.convert(\"RGB\")\n",
    "        image = image.resize((image_size,image_size))\n",
    "        data  = np.asarray(image)\n",
    "        X.append(data)\n",
    "        Y.append(index)\n",
    "\n",
    "X = np.array(X)\n",
    "Y = np.array(Y)\n",
    "\n",
    "#データをトレーニング用(train)とその後のテスト用(test)に分割する\n",
    "X_train,X_test,Y_train,Y_test = model_selection.train_test_split(X,Y)\n",
    "xy = (X_train,X_test,Y_train,Y_test)\n",
    "np.save(\"./animap.npy\",xy)"
   ]
  },
  {
   "cell_type": "code",
   "execution_count": 2,
   "metadata": {},
   "outputs": [
    {
     "data": {
      "text/plain": [
       "452"
      ]
     },
     "execution_count": 2,
     "metadata": {},
     "output_type": "execute_result"
    }
   ],
   "source": [
    "len(X_train)"
   ]
  },
  {
   "cell_type": "code",
   "execution_count": 3,
   "metadata": {},
   "outputs": [
    {
     "data": {
      "text/plain": [
       "151"
      ]
     },
     "execution_count": 3,
     "metadata": {},
     "output_type": "execute_result"
    }
   ],
   "source": [
    "len(X_test)"
   ]
  },
  {
   "cell_type": "code",
   "execution_count": 4,
   "metadata": {},
   "outputs": [
    {
     "data": {
      "text/plain": [
       "array([[[ 55,  85,  93],\n",
       "        [ 57,  84,  93],\n",
       "        [ 59,  88,  96],\n",
       "        ...,\n",
       "        [  5,   8,   0],\n",
       "        [  9,  12,   5],\n",
       "        [ 11,  12,   6]],\n",
       "\n",
       "       [[  0,  49,  49],\n",
       "        [ 11,  62,  63],\n",
       "        [  2,  56,  56],\n",
       "        ...,\n",
       "        [ 49,  64,  67],\n",
       "        [ 44,  60,  47],\n",
       "        [ 45,  59,  46]],\n",
       "\n",
       "       [[ 12,  52,  51],\n",
       "        [  0,  38,  35],\n",
       "        [  7,  53,  50],\n",
       "        ...,\n",
       "        [131, 168, 176],\n",
       "        [132, 165, 182],\n",
       "        [133, 164, 182]],\n",
       "\n",
       "       ...,\n",
       "\n",
       "       [[ 89,  76,  93],\n",
       "        [ 71,  66,  73],\n",
       "        [ 62,  61,  66],\n",
       "        ...,\n",
       "        [  1,   7,   3],\n",
       "        [  3,   5,   0],\n",
       "        [  0,   7,   0]],\n",
       "\n",
       "       [[ 80,  75,  82],\n",
       "        [ 77,  72,  78],\n",
       "        [ 73,  68,  72],\n",
       "        ...,\n",
       "        [  2,   4,   1],\n",
       "        [  3,   3,   1],\n",
       "        [  2,   4,   1]],\n",
       "\n",
       "       [[ 34,  29,  33],\n",
       "        [ 58,  54,  55],\n",
       "        [ 64,  60,  61],\n",
       "        ...,\n",
       "        [  0,   2,   0],\n",
       "        [  3,   3,   1],\n",
       "        [  2,   4,   1]]], dtype=uint8)"
      ]
     },
     "execution_count": 4,
     "metadata": {},
     "output_type": "execute_result"
    }
   ],
   "source": [
    "X_train[100]"
   ]
  },
  {
   "cell_type": "code",
   "execution_count": 5,
   "metadata": {},
   "outputs": [
    {
     "data": {
      "text/plain": [
       "0"
      ]
     },
     "execution_count": 5,
     "metadata": {},
     "output_type": "execute_result"
    }
   ],
   "source": [
    "Y_train[100]"
   ]
  },
  {
   "cell_type": "code",
   "execution_count": null,
   "metadata": {},
   "outputs": [],
   "source": []
  }
 ],
 "metadata": {
  "kernelspec": {
   "display_name": "Python 3",
   "language": "python",
   "name": "python3"
  },
  "language_info": {
   "codemirror_mode": {
    "name": "ipython",
    "version": 3
   },
   "file_extension": ".py",
   "mimetype": "text/x-python",
   "name": "python",
   "nbconvert_exporter": "python",
   "pygments_lexer": "ipython3",
   "version": "3.6.4"
  }
 },
 "nbformat": 4,
 "nbformat_minor": 2
}
